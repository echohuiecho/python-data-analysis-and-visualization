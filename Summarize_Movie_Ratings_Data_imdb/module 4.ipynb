{
 "cells": [
  {
   "cell_type": "markdown",
   "metadata": {
    "colab_type": "text",
    "deletable": false,
    "editable": false,
    "id": "mzQwSSNJ5FIs",
    "nbgrader": {
     "cell_type": "markdown",
     "checksum": "33e8773f788dded90fc7b941d5abeb6f",
     "grade": false,
     "grade_id": "cell-334d05a29449b61c",
     "locked": true,
     "schema_version": 3,
     "solution": false,
     "task": false
    }
   },
   "source": [
    "## Module 4\n",
    "\n",
    "#### In this assignment, you will continue working on the movie data from IMDB.\n",
    "- The data includes movies and ratings from the IMDB website\n",
    "- Data File(s): imdb.xlsx\n",
    "\n",
    "#### Data file contains 3 sheets:\n",
    "- “imdb”: contains records of movies and ratings scraped from IMDB website\n",
    "- “countries”: contains the country (of origin) names\n",
    "- “directors”: contains the director names\n",
    "\n",
    "We have loaded and joined the data as \"df\" for you. Follow the instructions and finish the rest part."
   ]
  },
  {
   "cell_type": "code",
   "execution_count": 1,
   "metadata": {
    "colab": {},
    "colab_type": "code",
    "deletable": false,
    "editable": false,
    "id": "I0dbjkXF5FIs",
    "nbgrader": {
     "cell_type": "code",
     "checksum": "37b1739194dc68da1e455fbe1391a59e",
     "grade": true,
     "grade_id": "init_test",
     "locked": true,
     "points": 0,
     "schema_version": 3,
     "solution": false,
     "task": false
    }
   },
   "outputs": [],
   "source": [
    "###########################################################\n",
    "### EXECUTE THIS CELL BEFORE YOU TO TEST YOUR SOLUTIONS ###\n",
    "###########################################################\n",
    "\n",
    "import imp, os, sys\n",
    "sol = imp.load_compiled(\"solutions\", \"./solutions.py\")\n",
    "sol.get_solutions(\"imdb.xlsx\")\n",
    "from nose.tools import assert_equal\n",
    "from pandas.util.testing import assert_frame_equal, assert_series_equal"
   ]
  },
  {
   "cell_type": "code",
   "execution_count": 2,
   "metadata": {
    "colab": {},
    "colab_type": "code",
    "deletable": false,
    "editable": false,
    "id": "tWa9wRgq5FIv",
    "nbgrader": {
     "cell_type": "code",
     "checksum": "56b17977c11220f23b60c8d579395272",
     "grade": true,
     "grade_id": "init_user",
     "locked": true,
     "points": 0,
     "schema_version": 3,
     "solution": false,
     "task": false
    },
    "outputId": "2075cc76-0458-4c8b-cfd5-54d5662fa0f7"
   },
   "outputs": [
    {
     "name": "stdout",
     "output_type": "stream",
     "text": [
      "Finished.\n"
     ]
    }
   ],
   "source": [
    "# Loading the data\n",
    "import pandas as pd\n",
    "\n",
    "xls = pd.ExcelFile('imdb.xlsx')\n",
    "df = xls.parse('imdb')\n",
    "df_directors = xls.parse('directors')\n",
    "df_countries = xls.parse('countries')\n",
    "\n",
    "df = pd.merge(left=df, right=df_countries, \n",
    "              how='inner', left_on='country_id', \n",
    "              right_on='id')\n",
    "\n",
    "df = pd.merge(left=df, right=df_directors, \n",
    "              how='inner', left_on='director_id', \n",
    "              right_on='id')\n",
    "\n",
    "print(\"Finished.\")"
   ]
  },
  {
   "cell_type": "code",
   "execution_count": 12,
   "metadata": {
    "colab": {},
    "colab_type": "code",
    "deletable": false,
    "id": "q3XkiRNH5FIx",
    "nbgrader": {
     "cell_type": "code",
     "checksum": "429f23e75beece059b21cb62bd6e34b7",
     "grade": false,
     "grade_id": "q1",
     "locked": false,
     "schema_version": 3,
     "solution": true,
     "task": false
    },
    "outputId": "b13e238c-5086-42dd-801a-94dcfa256c1e"
   },
   "outputs": [
    {
     "name": "stdout",
     "output_type": "stream",
     "text": [
      "                movie_title  director_id  country_id content_rating  \\\n",
      "0  The Shawshank Redemption           34           1              R   \n",
      "1            The Green Mile           34           1              R   \n",
      "2             The Godfather           33           1              R   \n",
      "3    The Godfather: Part II           33           1              R   \n",
      "4            Apocalypse Now           33           1              R   \n",
      "\n",
      "   title_year  imdb_score      gross  duration  id_x country  id_y  \\\n",
      "0        1994         9.3   28341469       142     1     USA    34   \n",
      "1        1999         8.5  136801374       189     1     USA    34   \n",
      "2        1972         9.2  134821952       175     1     USA    33   \n",
      "3        1974         9.0   57300000       220     1     USA    33   \n",
      "4        1979         8.5   78800000       289     1     USA    33   \n",
      "\n",
      "          director_name  \n",
      "0        Frank Darabont  \n",
      "1        Frank Darabont  \n",
      "2  Francis Ford Coppola  \n",
      "3  Francis Ford Coppola  \n",
      "4  Francis Ford Coppola  \n",
      "       imdb_score         gross\n",
      "count  178.000000  1.780000e+02\n",
      "mean     8.294382  1.030402e+08\n",
      "std      0.266960  1.242549e+08\n",
      "min      8.000000  8.060000e+03\n",
      "25%      8.100000  1.318510e+07\n",
      "50%      8.200000  5.194371e+07\n",
      "75%      8.475000  1.522436e+08\n",
      "max      9.300000  6.232795e+08\n"
     ]
    }
   ],
   "source": [
    "\"\"\" Q1: \n",
    "Get the summary statistics for imdb_score and gross, then use the describe() function to summarize this visually. Save the\n",
    "result in a variable called score_gross_description and print it.\n",
    "\"\"\"\n",
    "\n",
    "# your code here\n",
    "print(df.head())\n",
    "df_imdb_gross = df[[\"imdb_score\", \"gross\"]]\n",
    "score_gross_description = df_imdb_gross.describe()\n",
    "print(score_gross_description)"
   ]
  },
  {
   "cell_type": "code",
   "execution_count": 11,
   "metadata": {
    "colab": {},
    "colab_type": "code",
    "deletable": false,
    "editable": false,
    "id": "x4YkLaTr5FIz",
    "nbgrader": {
     "cell_type": "code",
     "checksum": "55be92ed79401ccb20c229e1f4437145",
     "grade": true,
     "grade_id": "q1_test",
     "locked": true,
     "points": 1,
     "schema_version": 3,
     "solution": false,
     "task": false
    },
    "scrolled": true
   },
   "outputs": [
    {
     "name": "stdout",
     "output_type": "stream",
     "text": [
      "Success!\n"
     ]
    }
   ],
   "source": [
    "assert_frame_equal(score_gross_description, sol.score_gross_description)\n",
    "print(\"Success!\")"
   ]
  },
  {
   "cell_type": "code",
   "execution_count": 22,
   "metadata": {
    "colab": {},
    "colab_type": "code",
    "deletable": false,
    "id": "SCUE4CSX5FI1",
    "nbgrader": {
     "cell_type": "code",
     "checksum": "665213ae59ffe2e721030543ff06abf9",
     "grade": false,
     "grade_id": "q2",
     "locked": false,
     "schema_version": 3,
     "solution": true,
     "task": false
    },
    "outputId": "1ab3acd5-4057-4f21-ac54-1448ad728624"
   },
   "outputs": [
    {
     "name": "stdout",
     "output_type": "stream",
     "text": [
      "       director_id  country_id   title_year  imdb_score         gross  \\\n",
      "count          7.0         7.0     7.000000     7.00000  7.000000e+00   \n",
      "mean          16.0         1.0  2007.857143     8.60000  2.494235e+08   \n",
      "std            0.0         0.0     4.705620     0.23094  1.898840e+08   \n",
      "min           16.0         1.0  2000.000000     8.30000  2.553088e+07   \n",
      "25%           16.0         1.0  2005.500000     8.50000  1.205371e+08   \n",
      "50%           16.0         1.0  2008.000000     8.50000  2.053438e+08   \n",
      "75%           16.0         1.0  2011.000000     8.70000  3.703497e+08   \n",
      "max           16.0         1.0  2014.000000     9.00000  5.333161e+08   \n",
      "\n",
      "         duration  id_x  id_y  \n",
      "count    7.000000   7.0   7.0  \n",
      "mean   143.428571   1.0  16.0  \n",
      "std     20.476467   0.0   0.0  \n",
      "min    113.000000   1.0  16.0  \n",
      "25%    129.000000   1.0  16.0  \n",
      "50%    148.000000   1.0  16.0  \n",
      "75%    158.000000   1.0  16.0  \n",
      "max    169.000000   1.0  16.0  \n"
     ]
    }
   ],
   "source": [
    "\"\"\"Q2:\n",
    "What is the average rating of the director Christopher Nolan's movies? Save this value in a variable called nolan_mean and \n",
    "print.\n",
    "\"\"\"\n",
    "\n",
    "# your code here\n",
    "# filter only the director Christopher Nolan\n",
    "df_nolan_imdb = df[df[\"director_name\"] == \"Christopher Nolan\"]\n",
    "print(df_nolan_imdb.describe())\n",
    "\n",
    "# getting the mean of imdb_score\n",
    "nolan_mean = df_nolan_imdb.describe(include='all').loc['mean']['imdb_score']"
   ]
  },
  {
   "cell_type": "code",
   "execution_count": 25,
   "metadata": {
    "colab": {},
    "colab_type": "code",
    "deletable": false,
    "editable": false,
    "id": "noUKdJj15FI3",
    "nbgrader": {
     "cell_type": "code",
     "checksum": "6505b8ca93a723d84963d44cffa625f0",
     "grade": true,
     "grade_id": "q2_test",
     "locked": true,
     "points": 1,
     "schema_version": 3,
     "solution": false,
     "task": false
    }
   },
   "outputs": [],
   "source": [
    "assert_equal(nolan_mean, sol.nolan_mean)"
   ]
  },
  {
   "cell_type": "code",
   "execution_count": 30,
   "metadata": {
    "colab": {},
    "colab_type": "code",
    "deletable": false,
    "id": "W17SFy3A5FI5",
    "nbgrader": {
     "cell_type": "code",
     "checksum": "d12d07f8fb66a6526f57754afbf7c90d",
     "grade": false,
     "grade_id": "q3",
     "locked": false,
     "schema_version": 3,
     "solution": true,
     "task": false
    },
    "outputId": "783e143c-b5a6-49c9-af90-335a175affd8"
   },
   "outputs": [
    {
     "name": "stdout",
     "output_type": "stream",
     "text": [
      "director_name\n",
      "Akira Kurosawa           8.70\n",
      "Alejandro Amenabar       8.10\n",
      "Alejandro G. Inarritu    8.10\n",
      "Alfred Hitchcock         8.50\n",
      "Andrew Stanton           8.30\n",
      "                         ... \n",
      "Victor Fleming           8.15\n",
      "Vincent Paronnaud        8.00\n",
      "Wes Anderson             8.10\n",
      "Wolfgang Petersen        8.40\n",
      "Woody Allen              8.10\n",
      "Name: imdb_score, Length: 117, dtype: float64\n",
      "<class 'pandas.core.series.Series'>\n",
      "8.48\n"
     ]
    }
   ],
   "source": [
    "\"\"\"Q3: \n",
    "Create a series called 'directors' that contains each director's name and his or her average rating.  Print out the type of your variable.\n",
    "Use the 'directors' series to find the average rating for Steven Spielberg.  Print the value.\n",
    "\"\"\"\n",
    "\n",
    "# your code here\n",
    "import numpy as np\n",
    "# Create a series with each director's name and his or her average rating\n",
    "directors = df.groupby(\"director_name\")[\"imdb_score\"].agg(np.mean)\n",
    "print(directors)\n",
    "\n",
    "# Print out the type of your variable.\n",
    "print(type(directors))\n",
    "\n",
    "# Print the value of the average rating for Steven Spielberg\n",
    "print(directors[\"Steven Spielberg\"])"
   ]
  },
  {
   "cell_type": "code",
   "execution_count": 31,
   "metadata": {
    "colab": {},
    "colab_type": "code",
    "deletable": false,
    "editable": false,
    "id": "_eyQLeMD5FI7",
    "nbgrader": {
     "cell_type": "code",
     "checksum": "189e6cca39a3c7f082ec863425ad1aef",
     "grade": true,
     "grade_id": "q3_test",
     "locked": true,
     "points": 1,
     "schema_version": 3,
     "solution": false,
     "task": false
    }
   },
   "outputs": [
    {
     "name": "stdout",
     "output_type": "stream",
     "text": [
      "Success!\n"
     ]
    }
   ],
   "source": [
    "assert_series_equal(directors, sol.directors)\n",
    "print(\"Success!\")"
   ]
  },
  {
   "cell_type": "code",
   "execution_count": 39,
   "metadata": {
    "colab": {},
    "colab_type": "code",
    "deletable": false,
    "id": "PsCllKn-5FI8",
    "nbgrader": {
     "cell_type": "code",
     "checksum": "451d86f8e2fcac74e4ab13c9e490ec54",
     "grade": false,
     "grade_id": "q4",
     "locked": false,
     "schema_version": 3,
     "solution": true,
     "task": false
    },
    "outputId": "cf090157-e849-471d-b073-e54c9601ccae"
   },
   "outputs": [
    {
     "name": "stdout",
     "output_type": "stream",
     "text": [
      "              movie_title  director_id  country_id content_rating  title_year  \\\n",
      "152         Spirited Away           46           4             PG        2001   \n",
      "153     Princess Mononoke           46           4          PG-13        1997   \n",
      "154  Howl's Moving Castle           46           4             PG        2004   \n",
      "\n",
      "     imdb_score     gross  duration  id_x country  id_y   director_name  \n",
      "152         8.6  10049886       125     4   Japan    46  Hayao Miyazaki  \n",
      "153         8.4   2298191       134     4   Japan    46  Hayao Miyazaki  \n",
      "154         8.2   4710455       119     4   Japan    46  Hayao Miyazaki  \n"
     ]
    }
   ],
   "source": [
    "\"\"\"Q4:\n",
    "Select the non-USA movies made after 1960 by Hayao Miyazaki.\n",
    "Save the result in a DataFrame called 'miyazaki', then print it.\n",
    "\n",
    "Here are the steps:\n",
    "1. Query the data ('df' DataFrame) based on the following conditions:\n",
    "- Non-USA movies (country_id != 1)\n",
    "- Movies made after 1960 (title_year > 1960)\n",
    "- Movies made by director Hayao Miyazaki (director_id == 46)\n",
    "2. Save the filtered data in a DataFrame called 'miyazaki' and print it\n",
    "\n",
    "\"\"\"\n",
    "\n",
    "# your code here\n",
    "# Condition: non-USA movies, after 1960, by Hayao Miyazaki\n",
    "non_US = df[\"country\"] != \"USA\"\n",
    "after_1960 = df[\"title_year\"] > 1960\n",
    "by_miyazaki = df[\"director_name\"] == \"Hayao Miyazaki\"\n",
    "miyazaki = df[non_US & after_1960 & by_miyazaki]\n",
    "print(miyazaki)"
   ]
  },
  {
   "cell_type": "code",
   "execution_count": 40,
   "metadata": {
    "colab": {},
    "colab_type": "code",
    "deletable": false,
    "editable": false,
    "id": "jw8c3ELh5FI-",
    "nbgrader": {
     "cell_type": "code",
     "checksum": "094cce90f792cfb635e6e80b4daeacda",
     "grade": true,
     "grade_id": "q4_test",
     "locked": true,
     "points": 2,
     "schema_version": 3,
     "solution": false,
     "task": false
    }
   },
   "outputs": [
    {
     "name": "stdout",
     "output_type": "stream",
     "text": [
      "Success!\n"
     ]
    }
   ],
   "source": [
    "assert_frame_equal(miyazaki, sol.miyazaki)\n",
    "print(\"Success!\")"
   ]
  },
  {
   "cell_type": "code",
   "execution_count": 50,
   "metadata": {
    "colab": {},
    "colab_type": "code",
    "deletable": false,
    "id": "czwAwh0X5FJA",
    "nbgrader": {
     "cell_type": "code",
     "checksum": "a04dc3a5bd96c00c606d6bc7850844ff",
     "grade": false,
     "grade_id": "q5",
     "locked": false,
     "schema_version": 3,
     "solution": true,
     "task": false
    },
    "outputId": "b9a232c4-462c-446b-eba0-b7e703ae5466"
   },
   "outputs": [
    {
     "data": {
      "text/html": [
       "<div>\n",
       "<style scoped>\n",
       "    .dataframe tbody tr th:only-of-type {\n",
       "        vertical-align: middle;\n",
       "    }\n",
       "\n",
       "    .dataframe tbody tr th {\n",
       "        vertical-align: top;\n",
       "    }\n",
       "\n",
       "    .dataframe thead tr th {\n",
       "        text-align: left;\n",
       "    }\n",
       "\n",
       "    .dataframe thead tr:last-of-type th {\n",
       "        text-align: right;\n",
       "    }\n",
       "</style>\n",
       "<table border=\"1\" class=\"dataframe\">\n",
       "  <thead>\n",
       "    <tr>\n",
       "      <th></th>\n",
       "      <th></th>\n",
       "      <th>median</th>\n",
       "    </tr>\n",
       "    <tr>\n",
       "      <th></th>\n",
       "      <th></th>\n",
       "      <th>imdb_score</th>\n",
       "    </tr>\n",
       "    <tr>\n",
       "      <th>country</th>\n",
       "      <th>director_name</th>\n",
       "      <th></th>\n",
       "    </tr>\n",
       "  </thead>\n",
       "  <tbody>\n",
       "    <tr>\n",
       "      <th>Argentina</th>\n",
       "      <th>Juan Jose Campanella</th>\n",
       "      <td>8.20</td>\n",
       "    </tr>\n",
       "    <tr>\n",
       "      <th>Australia</th>\n",
       "      <th>George Miller</th>\n",
       "      <td>8.10</td>\n",
       "    </tr>\n",
       "    <tr>\n",
       "      <th rowspan=\"2\" valign=\"top\">Brazil</th>\n",
       "      <th>Fernando Meirelles</th>\n",
       "      <td>8.70</td>\n",
       "    </tr>\n",
       "    <tr>\n",
       "      <th>Jose Padilha</th>\n",
       "      <td>8.10</td>\n",
       "    </tr>\n",
       "    <tr>\n",
       "      <th>Canada</th>\n",
       "      <th>Denis Villeneuve</th>\n",
       "      <td>8.20</td>\n",
       "    </tr>\n",
       "    <tr>\n",
       "      <th>...</th>\n",
       "      <th>...</th>\n",
       "      <td>...</td>\n",
       "    </tr>\n",
       "    <tr>\n",
       "      <th rowspan=\"4\" valign=\"top\">USA</th>\n",
       "      <th>Tony Scott</th>\n",
       "      <td>8.00</td>\n",
       "    </tr>\n",
       "    <tr>\n",
       "      <th>Victor Fleming</th>\n",
       "      <td>8.15</td>\n",
       "    </tr>\n",
       "    <tr>\n",
       "      <th>Wes Anderson</th>\n",
       "      <td>8.10</td>\n",
       "    </tr>\n",
       "    <tr>\n",
       "      <th>Woody Allen</th>\n",
       "      <td>8.10</td>\n",
       "    </tr>\n",
       "    <tr>\n",
       "      <th>West Germany</th>\n",
       "      <th>Wolfgang Petersen</th>\n",
       "      <td>8.40</td>\n",
       "    </tr>\n",
       "  </tbody>\n",
       "</table>\n",
       "<p>125 rows × 1 columns</p>\n",
       "</div>"
      ],
      "text/plain": [
       "                                      median\n",
       "                                  imdb_score\n",
       "country      director_name                  \n",
       "Argentina    Juan Jose Campanella       8.20\n",
       "Australia    George Miller              8.10\n",
       "Brazil       Fernando Meirelles         8.70\n",
       "             Jose Padilha               8.10\n",
       "Canada       Denis Villeneuve           8.20\n",
       "...                                      ...\n",
       "USA          Tony Scott                 8.00\n",
       "             Victor Fleming             8.15\n",
       "             Wes Anderson               8.10\n",
       "             Woody Allen                8.10\n",
       "West Germany Wolfgang Petersen          8.40\n",
       "\n",
       "[125 rows x 1 columns]"
      ]
     },
     "execution_count": 50,
     "metadata": {},
     "output_type": "execute_result"
    }
   ],
   "source": [
    "\"\"\"Q5: \n",
    "Create a Pivot Table that shows the median rating for each director, grouped by their respective countries. Name your variable\n",
    "'pivot_agg'\n",
    "\"\"\"\n",
    "\n",
    "# your code here\n",
    "pivot_agg = pd.pivot_table(\n",
    "    df, index=[\"country\", \"director_name\"],\n",
    "    values=[\"imdb_score\"],\n",
    "    aggfunc=[np.median]\n",
    ")\n",
    "pivot_agg"
   ]
  },
  {
   "cell_type": "code",
   "execution_count": 51,
   "metadata": {
    "colab": {},
    "colab_type": "code",
    "deletable": false,
    "editable": false,
    "id": "1cGe7tlP5FJC",
    "nbgrader": {
     "cell_type": "code",
     "checksum": "2e11ff63ad8e5dd93eb8bc77a0bdc53a",
     "grade": true,
     "grade_id": "q5_test",
     "locked": true,
     "points": 1,
     "schema_version": 3,
     "solution": false,
     "task": false
    }
   },
   "outputs": [
    {
     "name": "stdout",
     "output_type": "stream",
     "text": [
      "Success!\n"
     ]
    }
   ],
   "source": [
    "assert_frame_equal(pivot_agg, sol.pivot_agg)\n",
    "print(\"Success!\")"
   ]
  },
  {
   "cell_type": "code",
   "execution_count": 56,
   "metadata": {
    "colab": {},
    "colab_type": "code",
    "deletable": false,
    "id": "g8qTYSNG5FJD",
    "nbgrader": {
     "cell_type": "code",
     "checksum": "3e138ad0d5e6406c4f81ad57728a8f1f",
     "grade": false,
     "grade_id": "q6",
     "locked": false,
     "schema_version": 3,
     "solution": true,
     "task": false
    },
    "outputId": "09fb0cf6-c2c8-4100-d71b-b4b655bd3658"
   },
   "outputs": [],
   "source": [
    "\"\"\"Q6:\n",
    "How long did the movie Gladiator aim to keep your attention? Save the series with this information\n",
    "in a variable called 'gladiator_duration', then print it.\n",
    "\"\"\"\n",
    "\n",
    "# your code here\n",
    "df_gladiator = df[df[\"movie_title\"] == \"Gladiator\"]\n",
    "gladiator_duration = df_gladiator[\"duration\"]"
   ]
  },
  {
   "cell_type": "code",
   "execution_count": 57,
   "metadata": {
    "colab": {},
    "colab_type": "code",
    "deletable": false,
    "editable": false,
    "id": "PJTKmuVn5FJF",
    "nbgrader": {
     "cell_type": "code",
     "checksum": "863228142a56de6bd4414063dbadff75",
     "grade": true,
     "grade_id": "q6_test",
     "locked": true,
     "points": 1,
     "schema_version": 3,
     "solution": false,
     "task": false
    }
   },
   "outputs": [
    {
     "name": "stdout",
     "output_type": "stream",
     "text": [
      "Success!\n"
     ]
    }
   ],
   "source": [
    "assert_series_equal(gladiator_duration, sol.gladiator_duration)\n",
    "print(\"Success!\")"
   ]
  }
 ],
 "metadata": {
  "colab": {
   "name": "Module 3 solutions.ipynb",
   "provenance": []
  },
  "kernelspec": {
   "display_name": "Python 3 (ipykernel)",
   "language": "python",
   "name": "python3"
  },
  "language_info": {
   "codemirror_mode": {
    "name": "ipython",
    "version": 3
   },
   "file_extension": ".py",
   "mimetype": "text/x-python",
   "name": "python",
   "nbconvert_exporter": "python",
   "pygments_lexer": "ipython3",
   "version": "3.9.7"
  }
 },
 "nbformat": 4,
 "nbformat_minor": 4
}
