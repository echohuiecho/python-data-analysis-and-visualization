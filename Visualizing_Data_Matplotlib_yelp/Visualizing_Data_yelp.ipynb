{
 "cells": [
  {
   "cell_type": "markdown",
   "id": "4c51e7c9",
   "metadata": {},
   "source": [
    "# Pandas module & loading data"
   ]
  },
  {
   "cell_type": "code",
   "execution_count": 13,
   "id": "dd1cf362",
   "metadata": {},
   "outputs": [],
   "source": [
    "import pandas as pd\n",
    "# Ignore UserWarning from openpyxl\n",
    "import warnings\n",
    "warnings.filterwarnings(\"ignore\", category=UserWarning, module=\"openpyxl\")\n",
    "\n",
    "\n",
    "xls = pd.ExcelFile(\"yelp.xlsx\")\n",
    "df = xls.parse(\"yelp_data\")\n",
    "df_cities = xls.parse(\"cities\")\n",
    "df_states = xls.parse(\"states\")"
   ]
  },
  {
   "cell_type": "markdown",
   "id": "b3ab14e9",
   "metadata": {},
   "source": [
    "# Joining data"
   ]
  },
  {
   "cell_type": "code",
   "execution_count": 14,
   "id": "68076ad6",
   "metadata": {},
   "outputs": [],
   "source": [
    "# Joining df with df_cities by city ID\n",
    "df = pd.merge(left=df, right=df_cities, how=\"inner\", left_on=\"city_id\", right_on=\"id\")\n",
    "# Joining df with df_states by state ID\n",
    "df = pd.merge(left=df, right=df_states, how=\"inner\", left_on=\"state_id\", right_on=\"id\")\n",
    "\n",
    "# Remove duplicated columns\n",
    "del df[\"id_x\"]\n",
    "del df[\"id_y\"]"
   ]
  },
  {
   "cell_type": "code",
   "execution_count": 15,
   "id": "a1618e0f",
   "metadata": {},
   "outputs": [
    {
     "data": {
      "text/html": [
       "<div>\n",
       "<style scoped>\n",
       "    .dataframe tbody tr th:only-of-type {\n",
       "        vertical-align: middle;\n",
       "    }\n",
       "\n",
       "    .dataframe tbody tr th {\n",
       "        vertical-align: top;\n",
       "    }\n",
       "\n",
       "    .dataframe thead th {\n",
       "        text-align: right;\n",
       "    }\n",
       "</style>\n",
       "<table border=\"1\" class=\"dataframe\">\n",
       "  <thead>\n",
       "    <tr style=\"text-align: right;\">\n",
       "      <th></th>\n",
       "      <th>name</th>\n",
       "      <th>category_0</th>\n",
       "      <th>category_1</th>\n",
       "      <th>take_out</th>\n",
       "      <th>review_count</th>\n",
       "      <th>stars</th>\n",
       "      <th>city_id</th>\n",
       "      <th>state_id</th>\n",
       "      <th>city</th>\n",
       "      <th>state</th>\n",
       "    </tr>\n",
       "  </thead>\n",
       "  <tbody>\n",
       "    <tr>\n",
       "      <th>0</th>\n",
       "      <td>China Sea Chinese Restaurant</td>\n",
       "      <td>Restaurants</td>\n",
       "      <td>Chinese</td>\n",
       "      <td>True</td>\n",
       "      <td>11</td>\n",
       "      <td>2.5</td>\n",
       "      <td>1</td>\n",
       "      <td>1</td>\n",
       "      <td>Bellevue</td>\n",
       "      <td>PA</td>\n",
       "    </tr>\n",
       "    <tr>\n",
       "      <th>1</th>\n",
       "      <td>Discount Tire Center</td>\n",
       "      <td>Tires</td>\n",
       "      <td>Automotive</td>\n",
       "      <td>False</td>\n",
       "      <td>24</td>\n",
       "      <td>4.5</td>\n",
       "      <td>1</td>\n",
       "      <td>1</td>\n",
       "      <td>Bellevue</td>\n",
       "      <td>PA</td>\n",
       "    </tr>\n",
       "    <tr>\n",
       "      <th>2</th>\n",
       "      <td>Frankfurters</td>\n",
       "      <td>Restaurants</td>\n",
       "      <td>Hot Dogs</td>\n",
       "      <td>True</td>\n",
       "      <td>3</td>\n",
       "      <td>4.5</td>\n",
       "      <td>1</td>\n",
       "      <td>1</td>\n",
       "      <td>Bellevue</td>\n",
       "      <td>PA</td>\n",
       "    </tr>\n",
       "    <tr>\n",
       "      <th>3</th>\n",
       "      <td>Fred Dietz Floral</td>\n",
       "      <td>Shopping</td>\n",
       "      <td>Flowers &amp; Gifts</td>\n",
       "      <td>False</td>\n",
       "      <td>6</td>\n",
       "      <td>4.0</td>\n",
       "      <td>1</td>\n",
       "      <td>1</td>\n",
       "      <td>Bellevue</td>\n",
       "      <td>PA</td>\n",
       "    </tr>\n",
       "    <tr>\n",
       "      <th>4</th>\n",
       "      <td>Kuhn's Market</td>\n",
       "      <td>Food</td>\n",
       "      <td>Grocery</td>\n",
       "      <td>False</td>\n",
       "      <td>8</td>\n",
       "      <td>3.5</td>\n",
       "      <td>1</td>\n",
       "      <td>1</td>\n",
       "      <td>Bellevue</td>\n",
       "      <td>PA</td>\n",
       "    </tr>\n",
       "  </tbody>\n",
       "</table>\n",
       "</div>"
      ],
      "text/plain": [
       "                           name   category_0       category_1  take_out  \\\n",
       "0  China Sea Chinese Restaurant  Restaurants          Chinese      True   \n",
       "1          Discount Tire Center        Tires       Automotive     False   \n",
       "2                  Frankfurters  Restaurants         Hot Dogs      True   \n",
       "3             Fred Dietz Floral     Shopping  Flowers & Gifts     False   \n",
       "4                 Kuhn's Market         Food          Grocery     False   \n",
       "\n",
       "   review_count  stars  city_id  state_id      city state  \n",
       "0            11    2.5        1         1  Bellevue    PA  \n",
       "1            24    4.5        1         1  Bellevue    PA  \n",
       "2             3    4.5        1         1  Bellevue    PA  \n",
       "3             6    4.0        1         1  Bellevue    PA  \n",
       "4             8    3.5        1         1  Bellevue    PA  "
      ]
     },
     "execution_count": 15,
     "metadata": {},
     "output_type": "execute_result"
    }
   ],
   "source": [
    "df.head()"
   ]
  },
  {
   "cell_type": "markdown",
   "id": "1448e916",
   "metadata": {},
   "source": [
    "# Updating & creating data"
   ]
  },
  {
   "cell_type": "code",
   "execution_count": 16,
   "id": "8cfad54c",
   "metadata": {},
   "outputs": [],
   "source": [
    "# convert the stars to a 10-point system, store in a new column \"rating\"\n",
    "df[\"rating\"] = df[\"stars\"] * 2"
   ]
  },
  {
   "cell_type": "code",
   "execution_count": 17,
   "id": "ef9262d5",
   "metadata": {},
   "outputs": [],
   "source": [
    "def convert_to_rating(x):\n",
    "    return (str(x) + \" out of 10\")"
   ]
  },
  {
   "cell_type": "code",
   "execution_count": 18,
   "id": "35eb71f6",
   "metadata": {},
   "outputs": [],
   "source": [
    "df[\"rating\"] = df[\"rating\"].apply(convert_to_rating)"
   ]
  },
  {
   "cell_type": "code",
   "execution_count": 19,
   "id": "f31d55e7",
   "metadata": {},
   "outputs": [
    {
     "data": {
      "text/html": [
       "<div>\n",
       "<style scoped>\n",
       "    .dataframe tbody tr th:only-of-type {\n",
       "        vertical-align: middle;\n",
       "    }\n",
       "\n",
       "    .dataframe tbody tr th {\n",
       "        vertical-align: top;\n",
       "    }\n",
       "\n",
       "    .dataframe thead th {\n",
       "        text-align: right;\n",
       "    }\n",
       "</style>\n",
       "<table border=\"1\" class=\"dataframe\">\n",
       "  <thead>\n",
       "    <tr style=\"text-align: right;\">\n",
       "      <th></th>\n",
       "      <th>name</th>\n",
       "      <th>category_0</th>\n",
       "      <th>category_1</th>\n",
       "      <th>take_out</th>\n",
       "      <th>review_count</th>\n",
       "      <th>stars</th>\n",
       "      <th>city_id</th>\n",
       "      <th>state_id</th>\n",
       "      <th>city</th>\n",
       "      <th>state</th>\n",
       "      <th>rating</th>\n",
       "    </tr>\n",
       "  </thead>\n",
       "  <tbody>\n",
       "    <tr>\n",
       "      <th>0</th>\n",
       "      <td>China Sea Chinese Restaurant</td>\n",
       "      <td>Restaurants</td>\n",
       "      <td>Chinese</td>\n",
       "      <td>True</td>\n",
       "      <td>11</td>\n",
       "      <td>2.5</td>\n",
       "      <td>1</td>\n",
       "      <td>1</td>\n",
       "      <td>Bellevue</td>\n",
       "      <td>PA</td>\n",
       "      <td>5.0 out of 10</td>\n",
       "    </tr>\n",
       "    <tr>\n",
       "      <th>1</th>\n",
       "      <td>Discount Tire Center</td>\n",
       "      <td>Tires</td>\n",
       "      <td>Automotive</td>\n",
       "      <td>False</td>\n",
       "      <td>24</td>\n",
       "      <td>4.5</td>\n",
       "      <td>1</td>\n",
       "      <td>1</td>\n",
       "      <td>Bellevue</td>\n",
       "      <td>PA</td>\n",
       "      <td>9.0 out of 10</td>\n",
       "    </tr>\n",
       "    <tr>\n",
       "      <th>2</th>\n",
       "      <td>Frankfurters</td>\n",
       "      <td>Restaurants</td>\n",
       "      <td>Hot Dogs</td>\n",
       "      <td>True</td>\n",
       "      <td>3</td>\n",
       "      <td>4.5</td>\n",
       "      <td>1</td>\n",
       "      <td>1</td>\n",
       "      <td>Bellevue</td>\n",
       "      <td>PA</td>\n",
       "      <td>9.0 out of 10</td>\n",
       "    </tr>\n",
       "    <tr>\n",
       "      <th>3</th>\n",
       "      <td>Fred Dietz Floral</td>\n",
       "      <td>Shopping</td>\n",
       "      <td>Flowers &amp; Gifts</td>\n",
       "      <td>False</td>\n",
       "      <td>6</td>\n",
       "      <td>4.0</td>\n",
       "      <td>1</td>\n",
       "      <td>1</td>\n",
       "      <td>Bellevue</td>\n",
       "      <td>PA</td>\n",
       "      <td>8.0 out of 10</td>\n",
       "    </tr>\n",
       "    <tr>\n",
       "      <th>4</th>\n",
       "      <td>Kuhn's Market</td>\n",
       "      <td>Food</td>\n",
       "      <td>Grocery</td>\n",
       "      <td>False</td>\n",
       "      <td>8</td>\n",
       "      <td>3.5</td>\n",
       "      <td>1</td>\n",
       "      <td>1</td>\n",
       "      <td>Bellevue</td>\n",
       "      <td>PA</td>\n",
       "      <td>7.0 out of 10</td>\n",
       "    </tr>\n",
       "  </tbody>\n",
       "</table>\n",
       "</div>"
      ],
      "text/plain": [
       "                           name   category_0       category_1  take_out  \\\n",
       "0  China Sea Chinese Restaurant  Restaurants          Chinese      True   \n",
       "1          Discount Tire Center        Tires       Automotive     False   \n",
       "2                  Frankfurters  Restaurants         Hot Dogs      True   \n",
       "3             Fred Dietz Floral     Shopping  Flowers & Gifts     False   \n",
       "4                 Kuhn's Market         Food          Grocery     False   \n",
       "\n",
       "   review_count  stars  city_id  state_id      city state         rating  \n",
       "0            11    2.5        1         1  Bellevue    PA  5.0 out of 10  \n",
       "1            24    4.5        1         1  Bellevue    PA  9.0 out of 10  \n",
       "2             3    4.5        1         1  Bellevue    PA  9.0 out of 10  \n",
       "3             6    4.0        1         1  Bellevue    PA  8.0 out of 10  \n",
       "4             8    3.5        1         1  Bellevue    PA  7.0 out of 10  "
      ]
     },
     "execution_count": 19,
     "metadata": {},
     "output_type": "execute_result"
    }
   ],
   "source": [
    "df.head()"
   ]
  },
  {
   "cell_type": "markdown",
   "id": "a235c4bf",
   "metadata": {},
   "source": [
    "# Importing PyLab and Matplotlib"
   ]
  },
  {
   "cell_type": "code",
   "execution_count": 20,
   "id": "5e4b2d1b",
   "metadata": {},
   "outputs": [
    {
     "name": "stdout",
     "output_type": "stream",
     "text": [
      "Populating the interactive namespace from numpy and matplotlib\n"
     ]
    }
   ],
   "source": [
    "%pylab inline"
   ]
  },
  {
   "cell_type": "code",
   "execution_count": 21,
   "id": "3fc594da",
   "metadata": {},
   "outputs": [],
   "source": [
    "import matplotlib.pyplot as plt"
   ]
  },
  {
   "cell_type": "code",
   "execution_count": 23,
   "id": "bbf0f881",
   "metadata": {},
   "outputs": [
    {
     "data": {
      "text/html": [
       "<div>\n",
       "<style scoped>\n",
       "    .dataframe tbody tr th:only-of-type {\n",
       "        vertical-align: middle;\n",
       "    }\n",
       "\n",
       "    .dataframe tbody tr th {\n",
       "        vertical-align: top;\n",
       "    }\n",
       "\n",
       "    .dataframe thead th {\n",
       "        text-align: right;\n",
       "    }\n",
       "</style>\n",
       "<table border=\"1\" class=\"dataframe\">\n",
       "  <thead>\n",
       "    <tr style=\"text-align: right;\">\n",
       "      <th></th>\n",
       "      <th>name</th>\n",
       "      <th>category_0</th>\n",
       "      <th>category_1</th>\n",
       "      <th>take_out</th>\n",
       "      <th>review_count</th>\n",
       "      <th>stars</th>\n",
       "      <th>city_id</th>\n",
       "      <th>state_id</th>\n",
       "      <th>city</th>\n",
       "      <th>state</th>\n",
       "      <th>rating</th>\n",
       "    </tr>\n",
       "  </thead>\n",
       "  <tbody>\n",
       "    <tr>\n",
       "      <th>95</th>\n",
       "      <td>Aamco Transmissions</td>\n",
       "      <td>Auto Repair</td>\n",
       "      <td>Automotive</td>\n",
       "      <td>False</td>\n",
       "      <td>21</td>\n",
       "      <td>4.5</td>\n",
       "      <td>8</td>\n",
       "      <td>1</td>\n",
       "      <td>Pittsburgh</td>\n",
       "      <td>PA</td>\n",
       "      <td>9.0 out of 10</td>\n",
       "    </tr>\n",
       "    <tr>\n",
       "      <th>96</th>\n",
       "      <td>Animal Rescue League Shelter &amp; Wildlife Center</td>\n",
       "      <td>Animal Shelters</td>\n",
       "      <td>Veterinarians</td>\n",
       "      <td>False</td>\n",
       "      <td>43</td>\n",
       "      <td>4.0</td>\n",
       "      <td>8</td>\n",
       "      <td>1</td>\n",
       "      <td>Pittsburgh</td>\n",
       "      <td>PA</td>\n",
       "      <td>8.0 out of 10</td>\n",
       "    </tr>\n",
       "    <tr>\n",
       "      <th>97</th>\n",
       "      <td>Aracri's Greentree Inn</td>\n",
       "      <td>Italian</td>\n",
       "      <td>American (New)</td>\n",
       "      <td>True</td>\n",
       "      <td>15</td>\n",
       "      <td>3.5</td>\n",
       "      <td>8</td>\n",
       "      <td>1</td>\n",
       "      <td>Pittsburgh</td>\n",
       "      <td>PA</td>\n",
       "      <td>7.0 out of 10</td>\n",
       "    </tr>\n",
       "    <tr>\n",
       "      <th>98</th>\n",
       "      <td>Atch-Mont Real Estate</td>\n",
       "      <td>Real Estate Services</td>\n",
       "      <td>Property Management</td>\n",
       "      <td>False</td>\n",
       "      <td>3</td>\n",
       "      <td>2.0</td>\n",
       "      <td>8</td>\n",
       "      <td>1</td>\n",
       "      <td>Pittsburgh</td>\n",
       "      <td>PA</td>\n",
       "      <td>4.0 out of 10</td>\n",
       "    </tr>\n",
       "    <tr>\n",
       "      <th>99</th>\n",
       "      <td>Atria's Restaurant</td>\n",
       "      <td>American (New)</td>\n",
       "      <td>Sandwiches</td>\n",
       "      <td>True</td>\n",
       "      <td>69</td>\n",
       "      <td>3.0</td>\n",
       "      <td>8</td>\n",
       "      <td>1</td>\n",
       "      <td>Pittsburgh</td>\n",
       "      <td>PA</td>\n",
       "      <td>6.0 out of 10</td>\n",
       "    </tr>\n",
       "  </tbody>\n",
       "</table>\n",
       "</div>"
      ],
      "text/plain": [
       "                                              name            category_0  \\\n",
       "95                             Aamco Transmissions           Auto Repair   \n",
       "96  Animal Rescue League Shelter & Wildlife Center       Animal Shelters   \n",
       "97                          Aracri's Greentree Inn               Italian   \n",
       "98                           Atch-Mont Real Estate  Real Estate Services   \n",
       "99                              Atria's Restaurant        American (New)   \n",
       "\n",
       "             category_1  take_out  review_count  stars  city_id  state_id  \\\n",
       "95           Automotive     False            21    4.5        8         1   \n",
       "96        Veterinarians     False            43    4.0        8         1   \n",
       "97       American (New)      True            15    3.5        8         1   \n",
       "98  Property Management     False             3    2.0        8         1   \n",
       "99           Sandwiches      True            69    3.0        8         1   \n",
       "\n",
       "          city state         rating  \n",
       "95  Pittsburgh    PA  9.0 out of 10  \n",
       "96  Pittsburgh    PA  8.0 out of 10  \n",
       "97  Pittsburgh    PA  7.0 out of 10  \n",
       "98  Pittsburgh    PA  4.0 out of 10  \n",
       "99  Pittsburgh    PA  6.0 out of 10  "
      ]
     },
     "execution_count": 23,
     "metadata": {},
     "output_type": "execute_result"
    }
   ],
   "source": [
    "df_pitt = df[df[\"city\"] == \"Pittsburgh\"]\n",
    "df_pitt.head()"
   ]
  },
  {
   "cell_type": "code",
   "execution_count": 24,
   "id": "5fd4fbb0",
   "metadata": {},
   "outputs": [
    {
     "data": {
      "text/html": [
       "<div>\n",
       "<style scoped>\n",
       "    .dataframe tbody tr th:only-of-type {\n",
       "        vertical-align: middle;\n",
       "    }\n",
       "\n",
       "    .dataframe tbody tr th {\n",
       "        vertical-align: top;\n",
       "    }\n",
       "\n",
       "    .dataframe thead th {\n",
       "        text-align: right;\n",
       "    }\n",
       "</style>\n",
       "<table border=\"1\" class=\"dataframe\">\n",
       "  <thead>\n",
       "    <tr style=\"text-align: right;\">\n",
       "      <th></th>\n",
       "      <th>name</th>\n",
       "      <th>category_0</th>\n",
       "      <th>category_1</th>\n",
       "      <th>take_out</th>\n",
       "      <th>review_count</th>\n",
       "      <th>stars</th>\n",
       "      <th>city_id</th>\n",
       "      <th>state_id</th>\n",
       "      <th>city</th>\n",
       "      <th>state</th>\n",
       "      <th>rating</th>\n",
       "    </tr>\n",
       "  </thead>\n",
       "  <tbody>\n",
       "    <tr>\n",
       "      <th>430</th>\n",
       "      <td>Reliable Tax Services</td>\n",
       "      <td>Financial Services</td>\n",
       "      <td>Accountants</td>\n",
       "      <td>False</td>\n",
       "      <td>3</td>\n",
       "      <td>4.5</td>\n",
       "      <td>12</td>\n",
       "      <td>2</td>\n",
       "      <td>Las Vegas</td>\n",
       "      <td>NV</td>\n",
       "      <td>9.0 out of 10</td>\n",
       "    </tr>\n",
       "    <tr>\n",
       "      <th>431</th>\n",
       "      <td>Paradise Electro Stimulations</td>\n",
       "      <td>Shopping</td>\n",
       "      <td>Adult</td>\n",
       "      <td>False</td>\n",
       "      <td>4</td>\n",
       "      <td>4.5</td>\n",
       "      <td>12</td>\n",
       "      <td>2</td>\n",
       "      <td>Las Vegas</td>\n",
       "      <td>NV</td>\n",
       "      <td>9.0 out of 10</td>\n",
       "    </tr>\n",
       "    <tr>\n",
       "      <th>432</th>\n",
       "      <td>The Studio</td>\n",
       "      <td>Shopping</td>\n",
       "      <td>Adult</td>\n",
       "      <td>False</td>\n",
       "      <td>7</td>\n",
       "      <td>5.0</td>\n",
       "      <td>12</td>\n",
       "      <td>2</td>\n",
       "      <td>Las Vegas</td>\n",
       "      <td>NV</td>\n",
       "      <td>10.0 out of 10</td>\n",
       "    </tr>\n",
       "    <tr>\n",
       "      <th>433</th>\n",
       "      <td>Boomer's Bar</td>\n",
       "      <td>Bars</td>\n",
       "      <td>American (Traditional)</td>\n",
       "      <td>False</td>\n",
       "      <td>19</td>\n",
       "      <td>3.5</td>\n",
       "      <td>12</td>\n",
       "      <td>2</td>\n",
       "      <td>Las Vegas</td>\n",
       "      <td>NV</td>\n",
       "      <td>7.0 out of 10</td>\n",
       "    </tr>\n",
       "    <tr>\n",
       "      <th>434</th>\n",
       "      <td>Omelet House</td>\n",
       "      <td>Breakfast &amp; Brunch</td>\n",
       "      <td>American (Traditional)</td>\n",
       "      <td>True</td>\n",
       "      <td>703</td>\n",
       "      <td>4.5</td>\n",
       "      <td>12</td>\n",
       "      <td>2</td>\n",
       "      <td>Las Vegas</td>\n",
       "      <td>NV</td>\n",
       "      <td>9.0 out of 10</td>\n",
       "    </tr>\n",
       "  </tbody>\n",
       "</table>\n",
       "</div>"
      ],
      "text/plain": [
       "                              name          category_0  \\\n",
       "430          Reliable Tax Services  Financial Services   \n",
       "431  Paradise Electro Stimulations            Shopping   \n",
       "432                     The Studio            Shopping   \n",
       "433                   Boomer's Bar                Bars   \n",
       "434                   Omelet House  Breakfast & Brunch   \n",
       "\n",
       "                 category_1  take_out  review_count  stars  city_id  state_id  \\\n",
       "430             Accountants     False             3    4.5       12         2   \n",
       "431                   Adult     False             4    4.5       12         2   \n",
       "432                   Adult     False             7    5.0       12         2   \n",
       "433  American (Traditional)     False            19    3.5       12         2   \n",
       "434  American (Traditional)      True           703    4.5       12         2   \n",
       "\n",
       "          city state          rating  \n",
       "430  Las Vegas    NV   9.0 out of 10  \n",
       "431  Las Vegas    NV   9.0 out of 10  \n",
       "432  Las Vegas    NV  10.0 out of 10  \n",
       "433  Las Vegas    NV   7.0 out of 10  \n",
       "434  Las Vegas    NV   9.0 out of 10  "
      ]
     },
     "execution_count": 24,
     "metadata": {},
     "output_type": "execute_result"
    }
   ],
   "source": [
    "df_vegas = df[df[\"city\"] == \"Las Vegas\"]\n",
    "df_vegas.head()"
   ]
  },
  {
   "cell_type": "markdown",
   "id": "2a7d30eb",
   "metadata": {},
   "source": [
    "## Plotting Histogram "
   ]
  },
  {
   "cell_type": "code",
   "execution_count": 25,
   "id": "f8de9511",
   "metadata": {},
   "outputs": [],
   "source": [
    "# retrieve only the stars column for the histogram\n",
    "pitt_stars = df_pitt[\"stars\"]\n",
    "vegas_stars = df_vegas[\"stars\"]"
   ]
  },
  {
   "cell_type": "code",
   "execution_count": 28,
   "id": "87f0a3b8",
   "metadata": {},
   "outputs": [
    {
     "data": {
      "text/plain": [
       "<function matplotlib.pyplot.show(close=None, block=None)>"
      ]
     },
     "execution_count": 28,
     "metadata": {},
     "output_type": "execute_result"
    },
    {
     "data": {
      "image/png": "[encoded data removed]",
      "text/plain": [
       "<Figure size 432x288 with 1 Axes>"
      ]
     },
     "metadata": {
      "needs_background": "light"
     },
     "output_type": "display_data"
    }
   ],
   "source": [
    "plt.hist(\n",
    "    pitt_stars,\n",
    "    alpha = 0.3,\n",
    "    color = \"yellow\",\n",
    "    label = \"Pittsburgh\",\n",
    "    bins = \"auto\"\n",
    ")\n",
    "\n",
    "# overlay anther histogram on the previous one\n",
    "plt.hist(\n",
    "    vegas_stars,\n",
    "    alpha = 0.3,\n",
    "    color = \"red\",\n",
    "    label = \"Las Vegas\",\n",
    "    bins = \"auto\"\n",
    ")\n",
    "\n",
    "# add label for x-axis and y-axis\n",
    "plt.xlabel(\"Rating\")\n",
    "plt.ylabel(\"Number of Rating Scores\")\n",
    "\n",
    "# add legend and title\n",
    "plt.legend(loc = \"best\") # automatically put it in the best location\n",
    "plt.title(\"Review distribution of Pittsburgh and Las Vegas\")\n",
    "\n",
    "# show the histogram\n",
    "plt.show"
   ]
  },
  {
   "cell_type": "code",
   "execution_count": 29,
   "id": "215127c8",
   "metadata": {},
   "outputs": [
    {
     "data": {
      "text/plain": [
       "<function matplotlib.pyplot.show(close=None, block=None)>"
      ]
     },
     "execution_count": 29,
     "metadata": {},
     "output_type": "execute_result"
    },
    {
     "data": {
      "image/png": "[encoded data removed]",
      "text/plain": [
       "<Figure size 432x288 with 1 Axes>"
      ]
     },
     "metadata": {
      "needs_background": "light"
     },
     "output_type": "display_data"
    }
   ],
   "source": [
    "# putting the histogram side by side\n",
    "plt.hist(\n",
    "    [pitt_stars, vegas_stars],\n",
    "    alpha = 0.7,\n",
    "    color = [\"red\", \"blue\"],\n",
    "    label = [\"Pittsburgh\", \"Las Vegas\"],\n",
    "    bins = \"auto\"\n",
    ")\n",
    "\n",
    "# add label for x-axis and y-axis\n",
    "plt.xlabel(\"Rating\")\n",
    "plt.ylabel(\"Number of Rating Scores\")\n",
    "\n",
    "# add legend and title\n",
    "plt.legend(loc = \"best\") # automatically put it in the best location\n",
    "plt.title(\"Review distribution of Pittsburgh and Las Vegas\")\n",
    "\n",
    "# show the histogram\n",
    "plt.show"
   ]
  },
  {
   "cell_type": "markdown",
   "id": "10e0c37b",
   "metadata": {},
   "source": [
    "## Scatterplot"
   ]
  },
  {
   "cell_type": "code",
   "execution_count": 32,
   "id": "56dd632d",
   "metadata": {},
   "outputs": [],
   "source": [
    "df_health = df[df[\"category_0\"] == \"Health & Medical\"]\n",
    "df_fast = df[df[\"category_0\"] == \"Fast Food\"]\n",
    "df_break = df[df[\"category_0\"] == \"Breakfast & Brunch\"]"
   ]
  },
  {
   "cell_type": "code",
   "execution_count": 37,
   "id": "114caffb",
   "metadata": {
    "scrolled": true
   },
   "outputs": [
    {
     "data": {
      "text/plain": [
       "<function matplotlib.pyplot.show(close=None, block=None)>"
      ]
     },
     "execution_count": 37,
     "metadata": {},
     "output_type": "execute_result"
    },
    {
     "data": {
      "image/png": "[encoded data removed]",
      "text/plain": [
       "<Figure size 432x288 with 1 Axes>"
      ]
     },
     "metadata": {
      "needs_background": "light"
     },
     "output_type": "display_data"
    }
   ],
   "source": [
    "plt.scatter(\n",
    "    df_health[\"stars\"], df_health[\"review_count\"],\n",
    "    marker = \"o\",\n",
    "    color = 'r',\n",
    "    alpha = 0.7,\n",
    "    s = 124,\n",
    "    label = ['Health & Medical']\n",
    ")\n",
    "\n",
    "plt.scatter(\n",
    "    df_fast[\"stars\"], df_fast[\"review_count\"],\n",
    "    marker = \"h\",\n",
    "    color = 'b',\n",
    "    alpha = 0.7,\n",
    "    s = 124,\n",
    "    label = ['Fast Food']\n",
    ")\n",
    "\n",
    "plt.scatter(\n",
    "    df_break[\"stars\"], df_break[\"review_count\"],\n",
    "    marker = \"^\",\n",
    "    color = 'g',\n",
    "    alpha = 0.7,\n",
    "    s = 124,\n",
    "    label = ['Breakfast & Brunch']\n",
    ")\n",
    "\n",
    "# add label for x-axis and y-axis\n",
    "plt.xlabel('Rating')\n",
    "plt.ylabel('Review Count')\n",
    "\n",
    "# add legend\n",
    "plt.legend(loc = 'upper left')\n",
    "\n",
    "# adjust the axis scale\n",
    "# get the current axes for the current figure\n",
    "axes = plt.gca()\n",
    "axes.set_yscale(\"log\")\n",
    "\n",
    "# show the histogram\n",
    "plt.show"
   ]
  }
 ],
 "metadata": {
  "kernelspec": {
   "display_name": "Python 3 (ipykernel)",
   "language": "python",
   "name": "python3"
  },
  "language_info": {
   "codemirror_mode": {
    "name": "ipython",
    "version": 3
   },
   "file_extension": ".py",
   "mimetype": "text/x-python",
   "name": "python",
   "nbconvert_exporter": "python",
   "pygments_lexer": "ipython3",
   "version": "3.9.7"
  }
 },
 "nbformat": 4,
 "nbformat_minor": 5
}
